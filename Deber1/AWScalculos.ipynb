{
  "nbformat": 4,
  "nbformat_minor": 0,
  "metadata": {
    "colab": {
      "provenance": []
    },
    "kernelspec": {
      "name": "python3",
      "display_name": "Python 3"
    },
    "language_info": {
      "name": "python"
    }
  },
  "cells": [
    {
      "cell_type": "code",
      "execution_count": null,
      "metadata": {
        "colab": {
          "base_uri": "https://localhost:8080/"
        },
        "id": "TmAbQe-1uS8X",
        "outputId": "98cbc13a-e6b3-4461-f8eb-a0473fc32a8c"
      },
      "outputs": [
        {
          "output_type": "stream",
          "name": "stdout",
          "text": [
            "After 1 years, the estimated number of subscribers will be: 1650\n",
            "After 2 years, the estimated number of subscribers will be: 1815\n",
            "After 3 years, the estimated number of subscribers will be: 1997\n"
          ]
        }
      ],
      "source": [
        "def calculate_future_subscribers(present_subscribers, growth_rate, years):\n",
        "    future_subscribers = present_subscribers * (1 + growth_rate) ** years\n",
        "    return future_subscribers\n",
        "\n",
        "present_subscribers = 1500\n",
        "growth_rate = 0.10  # 10% growth rate per year\n",
        "\n",
        "# Calculate future subscribers for 1, 2, and 3 years\n",
        "for years in range(1, 4):\n",
        "    future_subscribers = calculate_future_subscribers(present_subscribers, growth_rate, years)\n",
        "    print(f\"After {years} years, the estimated number of subscribers will be: {round(future_subscribers)}\")\n"
      ]
    },
    {
      "cell_type": "code",
      "source": [
        "def calculate_storage_requirement(video_size, videos_per_day, days):\n",
        "    total_storage_gb = video_size * videos_per_day * days\n",
        "    total_storage_tb = total_storage_gb / 1024  # 1 TB = 1024 GB\n",
        "    return total_storage_gb, total_storage_tb\n",
        "\n",
        "video_size_gb = 5  # Size of each video in gigabytes\n",
        "videos_per_day = 1\n",
        "days = 365  # Assuming one video per day for a month\n",
        "\n",
        "total_storage_required_gb, total_storage_required_tb = calculate_storage_requirement(video_size_gb, videos_per_day, days)\n",
        "\n",
        "print(f\"The estimated total storage requirement for {days} days is: {total_storage_required_gb:.2f} GB\")\n",
        "print(f\"The estimated total storage requirement for {days} days is: {total_storage_required_tb:.2f} TB\")\n"
      ],
      "metadata": {
        "colab": {
          "base_uri": "https://localhost:8080/"
        },
        "id": "Q-FmakYovaAw",
        "outputId": "4a7ee356-dc01-4e3f-f4e5-7c3873253f32"
      },
      "execution_count": null,
      "outputs": [
        {
          "output_type": "stream",
          "name": "stdout",
          "text": [
            "The estimated total storage requirement for 365 days is: 1825.00 GB\n",
            "The estimated total storage requirement for 365 days is: 1.78 TB\n"
          ]
        }
      ]
    },
    {
      "cell_type": "markdown",
      "source": [
        "We use an incremental 150 gb per month and constant 200 gb. therefore have something like month_i = month_i-1 where month_0 = 350"
      ],
      "metadata": {
        "id": "dsSgft1TGtUh"
      }
    },
    {
      "cell_type": "code",
      "source": [
        "def calculate_bandwidth(data_transfer_rate, num_concurrent_users):\n",
        "    bandwidth = (data_transfer_rate* 10**6) * num_concurrent_users\n",
        "    return bandwidth\n",
        "\n",
        "# Example values\n",
        "data_transfer_rate = 10  # SD 2Mbps/ HD 5-10 Mbps/ FHD 10-20 Mbps/ 4K > 25 Mbps\n",
        "num_concurrent_users = 1500  # Number of simultaneous users\n",
        "\n",
        "bandwidth_required = calculate_bandwidth(data_transfer_rate, num_concurrent_users)\n",
        "print(f\"The estimated bandwidth required is: {bandwidth_required / 1000000:.2f} Mbps\")  # Convert to Mbps for readability\n"
      ],
      "metadata": {
        "colab": {
          "base_uri": "https://localhost:8080/"
        },
        "id": "_Pb13OHewNyR",
        "outputId": "c0ed6345-061a-4736-eb5d-edd416aaeab4"
      },
      "execution_count": null,
      "outputs": [
        {
          "output_type": "stream",
          "name": "stdout",
          "text": [
            "The estimated bandwidth required is: 19970.00 Mbps\n"
          ]
        }
      ]
    },
    {
      "cell_type": "code",
      "source": [
        "def estimate_video_size(original_size, original_resolution, target_resolution_factor):\n",
        "    # Calculate the target video size based on resolution factor\n",
        "    target_size = original_size * (target_resolution_factor ** 2)\n",
        "\n",
        "    return target_size\n",
        "\n",
        "\n",
        "# Example usage\n",
        "original_size = 5  # Original video size in GB\n",
        "original_resolution = (3840, 2160)  # Original video resolution (4K)\n",
        "\n",
        "# Target resolution factors for different qualities: 1080p, 720p, and 480p\n",
        "target_resolution_factors = {\n",
        "    \"1080p\": 0.5,\n",
        "    \"720p\": 0.25,\n",
        "    \"480p\": 0.125\n",
        "}\n",
        "\n",
        "for quality, resolution_factor in target_resolution_factors.items():\n",
        "    estimated_size = estimate_video_size(original_size, original_resolution, resolution_factor)\n",
        "    print(f\"Estimated size for {quality} quality: {estimated_size:.2f} GB\")\n"
      ],
      "metadata": {
        "colab": {
          "base_uri": "https://localhost:8080/"
        },
        "id": "AU-wXGOiFqnC",
        "outputId": "e6d2241e-7b07-47f5-806b-dc7cc29bfd45"
      },
      "execution_count": null,
      "outputs": [
        {
          "output_type": "stream",
          "name": "stdout",
          "text": [
            "Estimated size for 1080p quality: 1.25 GB\n",
            "Estimated size for 720p quality: 0.31 GB\n",
            "Estimated size for 480p quality: 0.08 GB\n"
          ]
        }
      ]
    },
    {
      "cell_type": "code",
      "source": [
        "# encodings by size stimation\n",
        "\n",
        "size_per_video = 5 + 1.25 + 0.31 + 0.08\n",
        "size_per_video * 30\n",
        "# each month we use and delete 200 GB, therefore consider this a constant 200 gb"
      ],
      "metadata": {
        "colab": {
          "base_uri": "https://localhost:8080/"
        },
        "id": "G8Zc2Re-FtOR",
        "outputId": "5a971b1a-8728-420a-d659-d786bc265426"
      },
      "execution_count": null,
      "outputs": [
        {
          "output_type": "execute_result",
          "data": {
            "text/plain": [
              "199.2"
            ]
          },
          "metadata": {},
          "execution_count": 5
        }
      ]
    },
    {
      "cell_type": "code",
      "source": [
        "# Total transfer per month (Cloudfront)\n",
        "\n",
        "users = [1500, 1650, 1815]\n",
        "video_size_gb = 5\n",
        "\n",
        "# worst case is everyone at 4k (5GB)\n",
        "#### first TB is free\n",
        "for i, user_n in enumerate(users):\n",
        "    print(f\"Transfer for {user_n} users at year {i+1} is {user_n*video_size_gb} GBs\")"
      ],
      "metadata": {
        "colab": {
          "base_uri": "https://localhost:8080/"
        },
        "id": "sIlne7kZpUWr",
        "outputId": "6df51ed4-9b6f-4751-82b5-e0b733192caf"
      },
      "execution_count": null,
      "outputs": [
        {
          "output_type": "stream",
          "name": "stdout",
          "text": [
            "Transfer for 1500 users at year 1 is 7500 GBs\n",
            "Transfer for 1650 users at year 2 is 8250 GBs\n",
            "Transfer for 1815 users at year 3 is 9075 GBs\n"
          ]
        }
      ]
    }
  ]
}